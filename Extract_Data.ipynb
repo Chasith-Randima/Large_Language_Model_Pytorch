{
  "nbformat": 4,
  "nbformat_minor": 0,
  "metadata": {
    "colab": {
      "provenance": [],
      "authorship_tag": "ABX9TyPFsVZsnQSbpiNzVx5X7NoK",
      "include_colab_link": true
    },
    "kernelspec": {
      "name": "python3",
      "display_name": "Python 3"
    },
    "language_info": {
      "name": "python"
    }
  },
  "cells": [
    {
      "cell_type": "markdown",
      "metadata": {
        "id": "view-in-github",
        "colab_type": "text"
      },
      "source": [
        "<a href=\"https://colab.research.google.com/github/Chasith-Randima/Large_Language_Model_Pytorch/blob/main/Extract_Data.ipynb\" target=\"_parent\"><img src=\"https://colab.research.google.com/assets/colab-badge.svg\" alt=\"Open In Colab\"/></a>"
      ]
    },
    {
      "cell_type": "code",
      "execution_count": 4,
      "metadata": {
        "id": "Dp5iVo_B5AtK"
      },
      "outputs": [],
      "source": [
        "from tqdm import tqdm\n",
        "import os\n",
        "import lzma"
      ]
    },
    {
      "cell_type": "code",
      "source": [
        "def xz_files_in_dir(directory):\n",
        "    files = []\n",
        "    for filename in os.listdir(directory):\n",
        "        if filename.endswith(\".xz\") and os.path.isfile(os.path.join(directory,filename)):\n",
        "            files.append(filename)\n",
        "    return files"
      ],
      "metadata": {
        "id": "FvXb79sf5FcW"
      },
      "execution_count": 3,
      "outputs": []
    },
    {
      "cell_type": "code",
      "source": [
        "folder_path = \"c:/users/temp/Downloads/openwebtext/openwebtext\"\n",
        "output_file_train = \"output_train.txt\"\n",
        "output_file_val = \"output_val.txt\"\n",
        "vocab_file = \"vocab.txt\"\n",
        "split_files = int(input(\"How many files would you like to split this into?\"))"
      ],
      "metadata": {
        "id": "YOnFPA6b56ad"
      },
      "execution_count": null,
      "outputs": []
    },
    {
      "cell_type": "code",
      "source": [
        "files = xz_files_in_dir(folder_path)\n",
        "\n",
        "total_files = len(files)\n",
        "\n",
        "split_index = int(total_files * 0.9)\n",
        "files_train = files[:split_index]\n",
        "files_val = files[split_index:]\n",
        "\n",
        "max_count = total_files // split_files if split_files != 0 else total_files\n",
        "\n",
        "vocab = set()\n",
        "\n",
        "# for i in range(split_files):\n",
        "#     with open(output_file.format(i),\"w\",encoding=\"utf=8\") as outfile:\n",
        "#         for count,filename in enumerate(tqdm(files[:max_count],total=max_count)):\n",
        "#             if count >= max_count:\n",
        "#                 break\n",
        "#             file_path = os.path.join(folder_path,filename)\n",
        "#             with lzma.open(file_path,\"rt\",encoding=\"utf-8\") as infile:\n",
        "#                 text = infile.read()\n",
        "#                 outfile.write(text)\n",
        "#                 characters = set(text)\n",
        "#                 vocab.update(characters)\n",
        "#         files = files[max_count:]\n",
        "\n",
        "\n",
        "\n",
        "with open(output_file_train,\"w\",encoding=\"utf=8\") as outfile:\n",
        "    for count,filename in enumerate(tqdm(files[:max_count],total=max_count)):\n",
        "        if count >= max_count:\n",
        "            break\n",
        "        file_path = os.path.join(folder_path,filename)\n",
        "        with lzma.open(file_path,\"rt\",encoding=\"utf-8\") as infile:\n",
        "            text = infile.read()\n",
        "            outfile.write(text)\n",
        "            characters = set(text)\n",
        "            vocab.update(characters)\n",
        "    files = files[max_count:]\n",
        "\n",
        "with open(output_file_val,\"w\",encoding=\"utf=8\") as outfile:\n",
        "    for count,filename in enumerate(tqdm(files[:max_count],total=max_count)):\n",
        "        if count >= max_count:\n",
        "            break\n",
        "        file_path = os.path.join(folder_path,filename)\n",
        "        with lzma.open(file_path,\"rt\",encoding=\"utf-8\") as infile:\n",
        "            text = infile.read()\n",
        "            outfile.write(text)\n",
        "            characters = set(text)\n",
        "            vocab.update(characters)\n",
        "    files = files[max_count:]"
      ],
      "metadata": {
        "id": "0-Ysb49nLbH-"
      },
      "execution_count": null,
      "outputs": []
    },
    {
      "cell_type": "code",
      "source": [
        "with open(vocab_file,\"w\",encoding=\"utf-8\") as vfile:\n",
        "    for char in vocab:\n",
        "        vfile.write(char + \"\\n\")"
      ],
      "metadata": {
        "id": "TH1S62qxNXZj"
      },
      "execution_count": null,
      "outputs": []
    }
  ]
}